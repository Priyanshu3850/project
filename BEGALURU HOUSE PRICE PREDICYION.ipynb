import pandas as pd
import numpy as np
from matplotlib import pyplot as plt
%matplotlib inline
import matplotlib
matplotlib.rcParams["figure.figsize"]=(20,10)

df1=pd.read_csv("D:\\data science project\\Bengaluru_House_Data.csv")
df1.head()

df1.groupby('area_type')['area_type'].agg('count')

# oping some columns.
df2=df1.drop(['area_type','society','balcony','availability'],axis='columns')
df2.head()

# checking NA values 
df2.isnull().sum()

df3=df2.dropna()
df3.isnull().sum()

df3['size'].unique()

# 4 bedroom and 4 bhk are same so we will createnew column for bhk seprately
df3['bhk']=df3['size'].apply(lambda x: int(x.split(' ')[0]))

df3.head()

df3.total_sqft.unique()

 def isf(x):
        try:
            float(x)
        except:
            return False
        return True

df3[~df3['total_sqft'].apply(isf)].head()

def convert_sqft_to_num(x):
    tokens = x.split('-')
    if len(tokens) == 2:
        return (float(tokens[0])+float(tokens[1]))/2
    try:
        return float(x)
    except:
        return None   

df4 = df3.copy()
df4.total_sqft = df4.total_sqft.apply(convert_sqft_to_num)
df4 = df4[df4.total_sqft.notnull()]
df4.head()

df4.loc[30]

df5 = df4.copy()
df5['price_per_sqft'] = df5['price']*100000/df5['total_sqft']
df5.head()

len(df5.location.unique())

df5.location = df5.location.apply(lambda x:x.strip())
locst=df5.groupby('location')['location'].agg('count').sort_values(ascending=False)
locst


locst_less_10=locst[locst<=10]
locst_less_10

df5.location = df5.location.apply(lambda x: 'other' if x in locst_less_10 else x)
len(df5.location.unique())

df5[df5.total_sqft/df5.bhk<300].head()

df6 = df5[~(df5.total_sqft/df5.bhk<300)]
df6.shape

df6.price_per_sqft.describe()

def remove_pps_outliers(df):
    df_out = pd.DataFrame()
    for key, subdf in df.groupby('location'):
        m = np.mean(subdf.price_per_sqft)
        st = np.std(subdf.price_per_sqft)
        reduced_df = subdf[(subdf.price_per_sqft>(m-st)) & (subdf.price_per_sqft<=(m+st))]
        df_out = pd.concat([df_out,reduced_df],ignore_index=True)
    return df_out
df7 = remove_pps_outliers(df6)
df7.shape

df9 = df7[df7.bath<df7.bhk+2]
df9.shape

df10 = df9.drop(['size','price_per_sqft'],axis='columns')
df10.head(3)

dummies = pd.get_dummies(df10.location)
dummies.head(3)

df11 = pd.concat([df10,dummies.drop('other',axis='columns')],axis='columns')
df11.head()


df12 = df11.drop('location',axis='columns')
df12.head(2)

X = df12.drop(['price'],axis='columns')
X.head(3)

y = df12.price
y.head(3)

from sklearn.model_selection import train_test_split
X_train, X_test, y_train, y_test = train_test_split(X,y,test_size=0.2,random_state=10)

from sklearn.linear_model import LinearRegression
lr_clf = LinearRegression()
lr_clf.fit(X_train,y_train)

lr_clf.score(X_test,y_test)

def predict_price(location,sqft,bath,bhk):    
    loc_index = np.where(X.columns==location)[0][0]

    x = np.zeros(len(X.columns))
    x[0] = sqft
    x[1] = bath
    x[2] = bhk
    if loc_index >= 0:
        x[loc_index] = 1

    return lr_clf.predict([x])[0]

predict_price('1st Phase JP Nagar',1000, 2, 2)

import pickle
with open('banglore_home_prices_model.pickle','wb') as f:
    pickle.dump(lr_clf,f)

import json
columns = {
    'data_columns' : [col.lower() for col in X.columns]
}
with open("columns.json","w") as f:
    f.write(json.dumps(columns))

